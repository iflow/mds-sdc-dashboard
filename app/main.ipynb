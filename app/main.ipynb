{
 "cells": [
  {
   "cell_type": "markdown",
   "id": "eb055d73-9c7e-4298-8f35-49d429c686f5",
   "metadata": {},
   "source": [
    "# Covid-19 Dashboard "
   ]
  },
  {
   "attachments": {},
   "cell_type": "markdown",
   "id": "6e5436c3",
   "metadata": {},
   "source": [
    "Install required packages in a conda environment\n",
    "\n",
    "`conda install -c conda-forge ipywidgets voila widgetsnbextension voila-vuetify bqplot ipyvuetify`\n",
    "\n",
    "Run with\n",
    "\n",
    "`voila --debug main.ipynb`"
   ]
  },
  {
   "cell_type": "code",
   "execution_count": 243,
   "id": "279db9e9-f2ea-4fb4-ae29-5c23239c5343",
   "metadata": {},
   "outputs": [],
   "source": [
    "# Required packages\n",
    "import pandas as pd # For easy-to-use data structures and data analysis\n",
    "import seaborn as sns # Advanced visualizations\n",
    "import matplotlib.pyplot as mplt # For advanced visualization functions, which are not wrapped by seaborn\n",
    "import matplotlib.dates as mdates # For date-time functions, which will be used also in visualizations\n",
    "from ipywidgets import widgets, interact, interactive, fixed, interact_manual\n",
    "import ipyvuetify as v\n",
    "from bqplot import pyplot as plt\n",
    "import bqplot"
   ]
  },
  {
   "cell_type": "code",
   "execution_count": 245,
   "id": "16f9e637-a6cf-4cc0-84dc-10806f205058",
   "metadata": {},
   "outputs": [],
   "source": [
    "# Load dataset\n",
    "df = pd.read_excel('data/final_tidy_data.xlsx')"
   ]
  },
  {
   "cell_type": "code",
   "execution_count": 294,
   "id": "bfdb0fd0-d5bf-49fe-8f81-bed97ae6edfe",
   "metadata": {},
   "outputs": [],
   "source": [
    "df4 = df.reset_index()\n",
    "#tmp_df_h4[(tmp_df_h4.YearWeek > '2022-01') & (tmp_df_h4.YearWeek < '2022-10')]\n",
    "# Have a look at the number of Covid cases over whole time per federal state.\n",
    "def plt_federal_state_over_time(yw_range):\n",
    "    if len(yw_range) == 0:\n",
    "        yw_range = (min(df4.YearWeek), max(df4.YearWeek))\n",
    "    fig = mplt.figure()\n",
    "    df = df4[(df4.YearWeek > yw_range[0]) & (df4.YearWeek < yw_range[1])]\n",
    "    fg = sns.lineplot(\n",
    "        data = df,\n",
    "        x = 'YearWeek',\n",
    "        y = 'NrCovidCases',\n",
    "        hue = \"FederalState\",\n",
    "        ci = None\n",
    "    )\n",
    "    fg.set_title('Covid cases over whole time per federal state')\n",
    "    fg.xaxis.set_major_locator(mdates.DayLocator(interval=4))\n",
    "    fig.add_axes(fg)\n",
    "    # Rotate the x-axis labels\n",
    "    mplt.xticks(rotation=90) \n",
    "    mplt.show()\n",
    "\n",
    "def get_year_week_slider():\n",
    "    options = df4['YearWeek'].unique()\n",
    "    return widgets.SelectionRangeSlider(\n",
    "        options=options,\n",
    "        index=(0, len(options)-1),\n",
    "        description='YearWeek',\n",
    "        disabled=False\n",
    "    )\n",
    "interactive_plt_df4 = interactive(plt_federal_state_over_time, yw_range = get_year_week_slider())\n",
    "output = interactive_plt_df4.children[-1]\n",
    "output.layout.height = '530px'\n",
    "\n",
    "#plt_federal_state_over_time(('2021-01', '2022-40'))"
   ]
  },
  {
   "cell_type": "code",
   "execution_count": 295,
   "id": "0ea1ace0",
   "metadata": {},
   "outputs": [],
   "source": [
    "# Show the absolute numbers of whole dataset.\n",
    "# Here we see the first male age group (0-64) has got much more deaths than females, with a compareable number of covid cases.\n",
    "# The second age group (> 64) has got a slightly different number of Corona cases.\n",
    "# However we see that that males have got lower number of Corona cases, but a higher number of death in contrast to females!\n",
    "df1 = df.groupby(['Gender', 'AgeGroup'])[['NrCovidCases', 'NrCovidRecovered', 'NrCovidDeath']].sum()\n",
    "#tmp_df_h1\n",
    "#tmp_df[['NrCovidCases', 'NrCovidRecovered', 'NrCovidDeath']].sum()\n",
    "\n",
    "def plt_abs_covid_cases():\n",
    "    fig = mplt.figure()\n",
    "    ax = df1[['NrCovidCases', 'NrCovidRecovered', 'NrCovidDeath']].plot.bar(title = \"Absolute numbers of covid cases grouped by gender and age group\")\n",
    "    #mplt.ylabel(\"Absolute number\")\n",
    "    mplt.show()\n",
    "\n",
    "interactive_plt_df1 = interactive(plt_abs_covid_cases, yw_range = get_year_week_slider())\n",
    "output = interactive_plt_df1.children[-1]\n",
    "output.layout.height = '530px'\n",
    "\n",
    "#display(plt_abs_covid_cases())\n",
    "#plt_abs_covid_cases()"
   ]
  },
  {
   "cell_type": "code",
   "execution_count": 296,
   "id": "0cd9d16f",
   "metadata": {},
   "outputs": [
    {
     "data": {
      "text/plain": [
       "ipywidgets.widgets.widget_box.Box"
      ]
     },
     "execution_count": 296,
     "metadata": {},
     "output_type": "execute_result"
    }
   ],
   "source": [
    "def get_gender_radio_buttons():\n",
    "    return widgets.RadioButtons(\n",
    "        options = ['Female', 'Male'],\n",
    "        value = 'Female',\n",
    "        description = 'Gender:',\n",
    "        disabled = False\n",
    "    )\n",
    "\n",
    "def get_age_radio_buttons():\n",
    "    return widgets.RadioButtons(\n",
    "        options = ['0-64', '>64'],\n",
    "        value = '0-64',\n",
    "        description=  'Age:',\n",
    "        disabled = False\n",
    "    )\n",
    "\n",
    "def df1_data_table(gender, ageGroup):\n",
    "    gender_mapping = {'Female': 'W', 'Male': 'M'}\n",
    "    df_tmp = df1[df1.index.get_level_values('Gender').isin([gender_mapping[gender]]) & df1.index.get_level_values('AgeGroup').isin([ageGroup])]\n",
    "    dt = v.DataTable()\n",
    "    dt.headers = [\n",
    "        {'text': 'NrCovidCases', 'value': 'NrCovidCases'},\n",
    "        {'text': 'NrCovidRecovered', 'value': 'NrCovidRecovered'},\n",
    "        {'text': 'NrCovidDeath', 'value': 'NrCovidDeath'},\n",
    "    ]\n",
    "    dt.items = df_tmp.to_dict(orient = 'records')\n",
    "    display(dt)\n",
    "\n",
    "gender_radio_buttons = get_gender_radio_buttons()\n",
    "age_radio_buttons = get_age_radio_buttons()\n",
    "interactive_df1_ui = widgets.HBox([gender_radio_buttons, age_radio_buttons])\n",
    "interactive_df1 = widgets.interactive_output(df1_data_table, {'gender': gender_radio_buttons, 'ageGroup': age_radio_buttons})"
   ]
  },
  {
   "cell_type": "code",
   "execution_count": 297,
   "id": "f903604f-1e40-4181-a589-58f7a9504495",
   "metadata": {},
   "outputs": [
    {
     "data": {
      "application/vnd.jupyter.widget-view+json": {
       "model_id": "569f8618d99843278924dda918e50084",
       "version_major": 2,
       "version_minor": 0
      },
      "text/plain": [
       "Tabs(children=[Tab(children=['Plots']), Tab(children=['Data Tables']), TabItem(children=[Layout(align_center=T…"
      ]
     },
     "metadata": {},
     "output_type": "display_data"
    }
   ],
   "source": [
    "# Layout @see https://vuetifyjs.com/en/api/v-layout/\n",
    "\n",
    "v.Tabs(children=[\n",
    "    v.Tab(children=['Plots']),\n",
    "    v.Tab(children=['Data Tables']),\n",
    "    v.TabItem(children=[\n",
    "        v.Layout(row=True, wrap=True, align_center=True, children=[\n",
    "            v.Flex(xs12=True, lg6=True, xl6=True, children=[\n",
    "                interactive_plt_df4\n",
    "            ]),\n",
    "            v.Flex(xs12=True, lg6=True, xl6=True, children=[\n",
    "                interactive_plt_df1\n",
    "            ]),\n",
    "        ])\n",
    "    ]),\n",
    "    v.TabItem(children=[\n",
    "        v.Layout(row=True, wrap=True, align_center=True, children=[\n",
    "            v.Flex(xs12=True, lg6=True, xl6=True, children=[\n",
    "                interactive_df1_ui, interactive_df1\n",
    "            ]),\n",
    "        ])\n",
    "    ]),\n",
    "])"
   ]
  },
  {
   "cell_type": "markdown",
   "id": "2079ee52",
   "metadata": {},
   "source": [
    "# Fast API\n",
    "\n",
    "Calculate sum of..."
   ]
  },
  {
   "cell_type": "code",
   "execution_count": null,
   "id": "e5be1a10",
   "metadata": {},
   "outputs": [],
   "source": [
    "response = ''\n",
    "try:\n",
    "    response = requests.get('http://127.0.0.1:8000/calc/sum?a=1&b=2')\n",
    "except Exception as e:\n",
    "    print(\"API not available\")\n",
    "\n",
    "if response:\n",
    "    data = response.json()\n",
    "    print('Result: ' + str(data['result']))"
   ]
  },
  {
   "cell_type": "markdown",
   "id": "c2b7bccf",
   "metadata": {},
   "source": []
  }
 ],
 "metadata": {
  "kernelspec": {
   "display_name": "Python 3.9.13 ('base')",
   "language": "python",
   "name": "python3"
  },
  "language_info": {
   "codemirror_mode": {
    "name": "ipython",
    "version": 3
   },
   "file_extension": ".py",
   "mimetype": "text/x-python",
   "name": "python",
   "nbconvert_exporter": "python",
   "pygments_lexer": "ipython3",
   "version": "3.9.13"
  },
  "vscode": {
   "interpreter": {
    "hash": "a36ac3473f4f765ee1d32c07f947cfa193603dbfd7ba2aa7bf3e12c57f78d587"
   }
  }
 },
 "nbformat": 4,
 "nbformat_minor": 5
}
